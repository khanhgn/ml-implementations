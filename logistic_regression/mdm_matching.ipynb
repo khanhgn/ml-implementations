{
 "cells": [
  {
   "cell_type": "code",
   "execution_count": null,
   "metadata": {},
   "outputs": [],
   "source": [
    "import numpy as np # linear algebra\n",
    "import pandas as pd # data processing, CSV file I/O (e.g. pd.read_csv)\n",
    "import matplotlib.pyplot as plt\n",
    "from sklearn.metrics import confusion_matrix\n",
    "from sklearn.linear_model import LogisticRegression\n",
    "from sklearn.model_selection import train_test_split\n",
    "import seaborn as sns\n",
    "\n",
    "import pandas as pd\n",
    "import numpy as np\n",
    "from itertools import combinations\n",
    "from sklearn.feature_extraction.text import TfidfVectorizer\n",
    "from sklearn.metrics.pairwise import cosine_similarity"
   ]
  },
  {
   "cell_type": "code",
   "execution_count": null,
   "metadata": {},
   "outputs": [],
   "source": [
    "dataset = pd.read_csv(\"../datasets/logisitc_regression/real_distribution_replicated_data_no_nulls (1).csv\")"
   ]
  },
  {
   "cell_type": "code",
   "execution_count": null,
   "metadata": {},
   "outputs": [],
   "source": [
    "df = dataset"
   ]
  },
  {
   "cell_type": "code",
   "execution_count": null,
   "metadata": {},
   "outputs": [],
   "source": [
    "# Generate all pairs of rows for comparison\n",
    "pairs = np.array(list(combinations(df.index, 2)))\n",
    "\n",
    "# Calculate field similarity scores using TF-IDF and cosine similarity\n",
    "def calculate_field_scores(df, pairs, field):\n",
    "    vectorizer = TfidfVectorizer().fit(df[field])\n",
    "    tfidf_matrix = vectorizer.transform(df[field])\n",
    "    scores = [cosine_similarity(tfidf_matrix[pair[0]], tfidf_matrix[pair[1]])[0][0] for pair in pairs]\n",
    "    return np.array(scores)\n",
    "\n",
    "# Calculate similarity scores for selected fields\n",
    "field_scores = {\n",
    "    \"name_score\": calculate_field_scores(df, pairs, \"ENGLISH_NAME\"),\n",
    "    \"address_score\": calculate_field_scores(df, pairs, \"ADDRESS\"),\n",
    "    \"email_score\": calculate_field_scores(df, pairs, \"EMAIL\"),\n",
    "    \"website_score\": calculate_field_scores(df, pairs, \"WEBSITE\")\n",
    "}\n",
    "\n",
    "# Function to get model input X and target variable y\n",
    "def get_x_y(field_scores: dict[str, np.ndarray], pairs: np.ndarray, df: pd.DataFrame) -> tuple[pd.DataFrame, np.ndarray]:\n",
    "    X = pd.DataFrame(field_scores)\n",
    "    y = (df.loc[pairs[:, 0], \"Cluster ID\"].values == df.loc[pairs[:, 1], \"Cluster ID\"].values).astype(int)\n",
    "    return X, y\n",
    "\n",
    "# Generate X and y\n",
    "X, y = get_x_y(field_scores, pairs, df)\n",
    "\n",
    "# Display the results\n",
    "print(\"Feature Matrix (X):\")\n",
    "print(X)\n",
    "print(\"\\nTarget Labels (y):\")\n",
    "print(y)"
   ]
  }
 ],
 "metadata": {
  "kernelspec": {
   "display_name": "env",
   "language": "python",
   "name": "python3"
  },
  "language_info": {
   "codemirror_mode": {
    "name": "ipython",
    "version": 3
   },
   "file_extension": ".py",
   "mimetype": "text/x-python",
   "name": "python",
   "nbconvert_exporter": "python",
   "pygments_lexer": "ipython3",
   "version": "3.12.3"
  }
 },
 "nbformat": 4,
 "nbformat_minor": 2
}
